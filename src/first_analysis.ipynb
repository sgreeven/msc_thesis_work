{
 "metadata": {
  "name": "",
  "signature": "sha256:10046656814a70915c60b9f970628da08934b7272a031a9b911e82faf9f2b367"
 },
 "nbformat": 3,
 "nbformat_minor": 0,
 "worksheets": [
  {
   "cells": [
    {
     "cell_type": "code",
     "collapsed": false,
     "input": [
      "from analysis import prim"
     ],
     "language": "python",
     "metadata": {},
     "outputs": [
      {
       "ename": "ImportError",
       "evalue": "No module named analysis",
       "output_type": "pyerr",
       "traceback": [
        "\u001b[1;31m---------------------------------------------------------------------------\u001b[0m\n\u001b[1;31mImportError\u001b[0m                               Traceback (most recent call last)",
        "\u001b[1;32m<ipython-input-1-1147171637a3>\u001b[0m in \u001b[0;36m<module>\u001b[1;34m()\u001b[0m\n\u001b[1;32m----> 1\u001b[1;33m \u001b[1;32mfrom\u001b[0m \u001b[0manalysis\u001b[0m \u001b[1;32mimport\u001b[0m \u001b[0mprim\u001b[0m\u001b[1;33m\u001b[0m\u001b[0m\n\u001b[0m",
        "\u001b[1;31mImportError\u001b[0m: No module named analysis"
       ]
      }
     ],
     "prompt_number": 1
    },
    {
     "cell_type": "code",
     "collapsed": false,
     "input": [
      "import sys\n",
      "\n",
      "for entry in sys.path:\n",
      "    print entry"
     ],
     "language": "python",
     "metadata": {},
     "outputs": [
      {
       "output_type": "stream",
       "stream": "stdout",
       "text": [
        "\n",
        "C:\\Users\\Sebas\\Anaconda\\python27.zip\n",
        "C:\\Users\\Sebas\\Anaconda\\DLLs\n",
        "C:\\Users\\Sebas\\Anaconda\\lib\n",
        "C:\\Users\\Sebas\\Anaconda\\lib\\plat-win\n",
        "C:\\Users\\Sebas\\Anaconda\\lib\\lib-tk\n",
        "C:\\Users\\Sebas\\Anaconda\n",
        "C:\\Users\\Sebas\\Anaconda\\lib\\site-packages\n",
        "C:\\Users\\Sebas\\Anaconda\\lib\\site-packages\\PIL\n",
        "C:\\Users\\Sebas\\Anaconda\\lib\\site-packages\\Sphinx-1.2.3-py2.7.egg\n",
        "C:\\Users\\Sebas\\Anaconda\\lib\\site-packages\\win32\n",
        "C:\\Users\\Sebas\\Anaconda\\lib\\site-packages\\win32\\lib\n",
        "C:\\Users\\Sebas\\Anaconda\\lib\\site-packages\\Pythonwin\n",
        "C:\\Users\\Sebas\\Anaconda\\lib\\site-packages\\runipy-0.1.1-py2.7.egg\n",
        "C:\\Users\\Sebas\\Anaconda\\lib\\site-packages\\setuptools-5.8-py2.7.egg\n",
        "C:\\Users\\Sebas\\Anaconda\\lib\\site-packages\\IPython\\extensions\n",
        "C:\\Users\\Sebas\\Documents\\GitHub\\msc_thesis_work\\src\n",
        "C:\\Users\\Sebas\\Documents\\GitHub\\EMAworkbench\\src\\analysis\n",
        "C:\\Users\\Sebas\\Documents\\GitHub\\EMAworkbench\\src\\expWorkbench\n"
       ]
      }
     ],
     "prompt_number": 2
    },
    {
     "cell_type": "code",
     "collapsed": false,
     "input": [
      "sys.path.append(r'C:\\Users\\Sebas\\Documents\\GitHub\\EMAworkbench\\src')"
     ],
     "language": "python",
     "metadata": {},
     "outputs": [],
     "prompt_number": 3
    },
    {
     "cell_type": "code",
     "collapsed": false,
     "input": [
      "import analysis"
     ],
     "language": "python",
     "metadata": {},
     "outputs": [],
     "prompt_number": 4
    },
    {
     "cell_type": "code",
     "collapsed": false,
     "input": [
      "% matplotlib inline\n",
      "\n",
      "import seaborn as sns\n",
      "import matplotlib.pyplot as plt\n",
      "\n",
      "sns.set_style('whitegrid')\n",
      "\n",
      "fig = plt.figure()\n",
      "ax = fig.add_subplot(111)\n",
      "plt.show()"
     ],
     "language": "python",
     "metadata": {},
     "outputs": [
      {
       "metadata": {},
       "output_type": "display_data",
       "png": "[encoded data removed]",
       "text": [
        "<matplotlib.figure.Figure at 0x15047320>"
       ]
      }
     ],
     "prompt_number": 8
    },
    {
     "cell_type": "markdown",
     "metadata": {},
     "source": [
      "# heading 1\n",
      "\n",
      "some text\n",
      " * some bullets \n",
      " * some more bullets\n",
      "     * text\n",
      "     * text\n",
      " \n",
      " \n",
      " **bold**\n",
      " \n",
      " ## heading 2\n",
      " \n",
      " ***italic bold***\n",
      " \n",
      " *italic*"
     ]
    },
    {
     "cell_type": "code",
     "collapsed": false,
     "input": [],
     "language": "python",
     "metadata": {},
     "outputs": []
    }
   ],
   "metadata": {}
  }
 ]
}